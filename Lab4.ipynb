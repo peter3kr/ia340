{
 "cells": [
  {
   "cell_type": "markdown",
   "id": "08f9df92",
   "metadata": {},
   "source": [
    "# Lab 4"
   ]
  },
  {
   "cell_type": "code",
   "execution_count": 1,
   "id": "9bfdda7d",
   "metadata": {},
   "outputs": [
    {
     "name": "stdout",
     "output_type": "stream",
     "text": [
      "Requirement already satisfied: psycopg2 in /home/ec2-user/anaconda3/envs/python3/lib/python3.6/site-packages (2.7.5)\r\n"
     ]
    }
   ],
   "source": [
    "!pip install psycopg2"
   ]
  },
  {
   "cell_type": "code",
   "execution_count": 1,
   "id": "8ce96a08",
   "metadata": {},
   "outputs": [
    {
     "name": "stderr",
     "output_type": "stream",
     "text": [
      "/home/ec2-user/anaconda3/envs/python3/lib/python3.6/site-packages/psycopg2/__init__.py:144: UserWarning: The psycopg2 wheel package will be renamed from release 2.8; in order to keep installing from binary please use \"pip install psycopg2-binary\" instead. For details see: <http://initd.org/psycopg/docs/install.html#binary-install-from-pypi>.\n",
      "  \"\"\")\n"
     ]
    }
   ],
   "source": [
    "import pandas\n",
    "import configparser\n",
    "import psycopg2"
   ]
  },
  {
   "cell_type": "code",
   "execution_count": 2,
   "id": "418cfd80",
   "metadata": {},
   "outputs": [],
   "source": [
    "config = configparser.ConfigParser()\n",
    "config.read('config.ini')\n",
    "\n",
    "host=config['myaws']['host']\n",
    "db=config['myaws']['db']\n",
    "user=config['myaws']['user']\n",
    "pwd = config['myaws']['pwd']\n",
    "\n",
    "conn = psycopg2.connect(  host=host,\n",
    "                       user=user,\n",
    "                       password = pwd,\n",
    "                       dbname=db)"
   ]
  },
  {
   "cell_type": "code",
   "execution_count": 3,
   "id": "0568bed4",
   "metadata": {},
   "outputs": [],
   "source": [
    "cur=conn.cursor()"
   ]
  },
  {
   "cell_type": "markdown",
   "id": "fcbc0208",
   "metadata": {},
   "source": [
    "## 3.1"
   ]
  },
  {
   "cell_type": "code",
   "execution_count": 4,
   "id": "ce1edbae",
   "metadata": {},
   "outputs": [],
   "source": [
    "sql_statement = \"\"\" select *\n",
    "            from gp16.student\"\"\""
   ]
  },
  {
   "cell_type": "code",
   "execution_count": 5,
   "id": "5260ba1e",
   "metadata": {},
   "outputs": [
    {
     "data": {
      "text/html": [
       "<div>\n",
       "<style scoped>\n",
       "    .dataframe tbody tr th:only-of-type {\n",
       "        vertical-align: middle;\n",
       "    }\n",
       "\n",
       "    .dataframe tbody tr th {\n",
       "        vertical-align: top;\n",
       "    }\n",
       "\n",
       "    .dataframe thead th {\n",
       "        text-align: right;\n",
       "    }\n",
       "</style>\n",
       "<table border=\"1\" class=\"dataframe\">\n",
       "  <thead>\n",
       "    <tr style=\"text-align: right;\">\n",
       "      <th></th>\n",
       "      <th>s_email</th>\n",
       "      <th>s_name</th>\n",
       "      <th>major</th>\n",
       "    </tr>\n",
       "  </thead>\n",
       "  <tbody>\n",
       "    <tr>\n",
       "      <th>0</th>\n",
       "      <td>studenta@gmail.com</td>\n",
       "      <td>Student A</td>\n",
       "      <td>IA</td>\n",
       "    </tr>\n",
       "    <tr>\n",
       "      <th>1</th>\n",
       "      <td>studentb@gmail.com</td>\n",
       "      <td>Student B</td>\n",
       "      <td>IA</td>\n",
       "    </tr>\n",
       "    <tr>\n",
       "      <th>2</th>\n",
       "      <td>studentc@gmail.com</td>\n",
       "      <td>Student C</td>\n",
       "      <td>IA</td>\n",
       "    </tr>\n",
       "    <tr>\n",
       "      <th>3</th>\n",
       "      <td>studentd@gmail.com</td>\n",
       "      <td>Student D</td>\n",
       "      <td>IA</td>\n",
       "    </tr>\n",
       "  </tbody>\n",
       "</table>\n",
       "</div>"
      ],
      "text/plain": [
       "              s_email     s_name major\n",
       "0  studenta@gmail.com  Student A    IA\n",
       "1  studentb@gmail.com  Student B    IA\n",
       "2  studentc@gmail.com  Student C    IA\n",
       "3  studentd@gmail.com  Student D    IA"
      ]
     },
     "execution_count": 5,
     "metadata": {},
     "output_type": "execute_result"
    }
   ],
   "source": [
    "df=pandas.read_sql_query(sql_statement,conn)\n",
    "df[:10]"
   ]
  },
  {
   "cell_type": "markdown",
   "id": "bc77f905",
   "metadata": {},
   "source": [
    "## 3.2"
   ]
  },
  {
   "cell_type": "code",
   "execution_count": 6,
   "id": "c66b7327",
   "metadata": {},
   "outputs": [],
   "source": [
    "sql_statement = \"\"\" select gp16.professor.p_name, gp16.course.c_name\n",
    "            from gp16.professor\n",
    "            inner join gp16.course\n",
    "            on gp16.professor.p_email = gp16.course.p_email\"\"\""
   ]
  },
  {
   "cell_type": "code",
   "execution_count": 7,
   "id": "759e7947",
   "metadata": {},
   "outputs": [
    {
     "data": {
      "text/html": [
       "<div>\n",
       "<style scoped>\n",
       "    .dataframe tbody tr th:only-of-type {\n",
       "        vertical-align: middle;\n",
       "    }\n",
       "\n",
       "    .dataframe tbody tr th {\n",
       "        vertical-align: top;\n",
       "    }\n",
       "\n",
       "    .dataframe thead th {\n",
       "        text-align: right;\n",
       "    }\n",
       "</style>\n",
       "<table border=\"1\" class=\"dataframe\">\n",
       "  <thead>\n",
       "    <tr style=\"text-align: right;\">\n",
       "      <th></th>\n",
       "      <th>p_name</th>\n",
       "      <th>c_name</th>\n",
       "    </tr>\n",
       "  </thead>\n",
       "  <tbody>\n",
       "    <tr>\n",
       "      <th>0</th>\n",
       "      <td>Stephen Marrin</td>\n",
       "      <td>Seminar on Issues in IA</td>\n",
       "    </tr>\n",
       "    <tr>\n",
       "      <th>1</th>\n",
       "      <td>Xuebin Wei</td>\n",
       "      <td>Data Mining</td>\n",
       "    </tr>\n",
       "    <tr>\n",
       "      <th>2</th>\n",
       "      <td>Orlandrew Danzell</td>\n",
       "      <td>Intro to US National Security</td>\n",
       "    </tr>\n",
       "    <tr>\n",
       "      <th>3</th>\n",
       "      <td>New P</td>\n",
       "      <td>new_course</td>\n",
       "    </tr>\n",
       "    <tr>\n",
       "      <th>4</th>\n",
       "      <td>New P</td>\n",
       "      <td>Counterfactual Reasoning</td>\n",
       "    </tr>\n",
       "  </tbody>\n",
       "</table>\n",
       "</div>"
      ],
      "text/plain": [
       "              p_name                          c_name\n",
       "0     Stephen Marrin         Seminar on Issues in IA\n",
       "1         Xuebin Wei                     Data Mining\n",
       "2  Orlandrew Danzell  Intro to US National Security \n",
       "3              New P                      new_course\n",
       "4              New P        Counterfactual Reasoning"
      ]
     },
     "execution_count": 7,
     "metadata": {},
     "output_type": "execute_result"
    }
   ],
   "source": [
    "df=pandas.read_sql_query(sql_statement,conn)\n",
    "df[:10]"
   ]
  },
  {
   "cell_type": "markdown",
   "id": "106052b6",
   "metadata": {},
   "source": [
    "## 3.3"
   ]
  },
  {
   "cell_type": "code",
   "execution_count": 32,
   "id": "4a46811d",
   "metadata": {},
   "outputs": [],
   "source": [
    "sql_statement= \"\"\"\n",
    "                select c_number,\n",
    "                    count (s_email) as enrolled\n",
    "                from gp16.enroll_list\n",
    "                group by c_number\n",
    "                order by enrolled desc\n",
    "                \"\"\""
   ]
  },
  {
   "cell_type": "code",
   "execution_count": 34,
   "id": "a864bdc1",
   "metadata": {},
   "outputs": [
    {
     "data": {
      "text/plain": [
       "<AxesSubplot:xlabel='c_number'>"
      ]
     },
     "execution_count": 34,
     "metadata": {},
     "output_type": "execute_result"
    },
    {
     "data": {
      "image/png": "[encoded data removed]",
      "text/plain": [
       "<Figure size 432x288 with 1 Axes>"
      ]
     },
     "metadata": {
      "needs_background": "light"
     },
     "output_type": "display_data"
    }
   ],
   "source": [
    "df_price=pandas.read_sql_query(sql_statement,conn)\n",
    "\n",
    "df_price.plot.bar(x='c_number',y='enrolled')"
   ]
  },
  {
   "cell_type": "markdown",
   "id": "6d35991e",
   "metadata": {},
   "source": [
    "## 3.4"
   ]
  },
  {
   "cell_type": "code",
   "execution_count": 35,
   "id": "f42b49aa",
   "metadata": {},
   "outputs": [],
   "source": [
    "sql_statement= \"\"\"\n",
    "                select gp16.professor.p_name,\n",
    "                    count (gp16.course.c_name) as num_c\n",
    "                from gp16.professor\n",
    "                inner join gp16.course\n",
    "                on gp16.professor.p_email = gp16.course.p_email\n",
    "                group by gp16.professor.p_name\n",
    "                order by (num_c) desc\n",
    "                \"\"\""
   ]
  },
  {
   "cell_type": "code",
   "execution_count": 37,
   "id": "ab63acbc",
   "metadata": {},
   "outputs": [
    {
     "data": {
      "text/plain": [
       "<AxesSubplot:xlabel='p_name'>"
      ]
     },
     "execution_count": 37,
     "metadata": {},
     "output_type": "execute_result"
    },
    {
     "data": {
      "image/png": "[encoded data removed]",
      "text/plain": [
       "<Figure size 432x288 with 1 Axes>"
      ]
     },
     "metadata": {
      "needs_background": "light"
     },
     "output_type": "display_data"
    }
   ],
   "source": [
    "df_price=pandas.read_sql_query(sql_statement,conn)\n",
    "\n",
    "df_price.plot.bar(x='p_name',y='num_c')"
   ]
  },
  {
   "cell_type": "markdown",
   "id": "16218e58",
   "metadata": {},
   "source": [
    "## 3.5"
   ]
  },
  {
   "cell_type": "code",
   "execution_count": 65,
   "id": "c5b54428",
   "metadata": {},
   "outputs": [
    {
     "name": "stdout",
     "output_type": "stream",
     "text": [
      "\n",
      "                insert into gp16.professor(p_email, p_name, p_office)\n",
      "                values ('lab4_P@jmu.edu', 'lab4 P', 'ISAT101')\n"
     ]
    }
   ],
   "source": [
    "sql_statement = \"\"\"\n",
    "                insert into gp16.professor(p_email, p_name, p_office)\n",
    "                values ('lab4_P@jmu.edu', 'lab4 P', 'ISAT101')\"\"\"\n",
    "print(sql_statement)"
   ]
  },
  {
   "cell_type": "code",
   "execution_count": 66,
   "id": "17caaac3",
   "metadata": {},
   "outputs": [],
   "source": [
    "conn.rollback()"
   ]
  },
  {
   "cell_type": "code",
   "execution_count": 74,
   "id": "c135605d",
   "metadata": {},
   "outputs": [
    {
     "name": "stdout",
     "output_type": "stream",
     "text": [
      "\n",
      "                insert into gp16.professor(p_email, p_name, p_office)\n",
      "                values ('lab4_P@jmu.edu', 'lab4 P', 'ISAT101')\n"
     ]
    }
   ],
   "source": [
    "sql_statement = \"\"\"\n",
    "                insert into gp16.professor(p_email, p_name, p_office)\n",
    "                values ('lab4_P@jmu.edu', 'lab4 P', 'ISAT101')\"\"\"\n",
    "print(sql_statement)"
   ]
  },
  {
   "cell_type": "code",
   "execution_count": 75,
   "id": "86cb0b13",
   "metadata": {},
   "outputs": [],
   "source": [
    "cur.execute(sql_statement)"
   ]
  },
  {
   "cell_type": "code",
   "execution_count": 76,
   "id": "99a5ebcd",
   "metadata": {},
   "outputs": [],
   "source": [
    "conn.commit()"
   ]
  },
  {
   "cell_type": "code",
   "execution_count": 77,
   "id": "64caa839",
   "metadata": {},
   "outputs": [
    {
     "data": {
      "text/html": [
       "<div>\n",
       "<style scoped>\n",
       "    .dataframe tbody tr th:only-of-type {\n",
       "        vertical-align: middle;\n",
       "    }\n",
       "\n",
       "    .dataframe tbody tr th {\n",
       "        vertical-align: top;\n",
       "    }\n",
       "\n",
       "    .dataframe thead th {\n",
       "        text-align: right;\n",
       "    }\n",
       "</style>\n",
       "<table border=\"1\" class=\"dataframe\">\n",
       "  <thead>\n",
       "    <tr style=\"text-align: right;\">\n",
       "      <th></th>\n",
       "      <th>p_email</th>\n",
       "      <th>p_name</th>\n",
       "      <th>p_office</th>\n",
       "    </tr>\n",
       "  </thead>\n",
       "  <tbody>\n",
       "    <tr>\n",
       "      <th>0</th>\n",
       "      <td>danzelox@jmu.edu</td>\n",
       "      <td>Orlandrew Danzell</td>\n",
       "      <td>ISAT336</td>\n",
       "    </tr>\n",
       "    <tr>\n",
       "      <th>1</th>\n",
       "      <td>marrinsp@jmu.edu</td>\n",
       "      <td>Stephen Marrin</td>\n",
       "      <td>ENGEO2401</td>\n",
       "    </tr>\n",
       "    <tr>\n",
       "      <th>2</th>\n",
       "      <td>weixx@jmu.edu</td>\n",
       "      <td>Xuebin Wei</td>\n",
       "      <td>ISAT112</td>\n",
       "    </tr>\n",
       "    <tr>\n",
       "      <th>3</th>\n",
       "      <td>new_p@jmu.edu</td>\n",
       "      <td>New P</td>\n",
       "      <td>ISAT100</td>\n",
       "    </tr>\n",
       "    <tr>\n",
       "      <th>4</th>\n",
       "      <td>lab4_P@jmu.edu</td>\n",
       "      <td>lab4 P</td>\n",
       "      <td>ISAT101</td>\n",
       "    </tr>\n",
       "  </tbody>\n",
       "</table>\n",
       "</div>"
      ],
      "text/plain": [
       "            p_email             p_name   p_office\n",
       "0  danzelox@jmu.edu  Orlandrew Danzell    ISAT336\n",
       "1  marrinsp@jmu.edu     Stephen Marrin  ENGEO2401\n",
       "2     weixx@jmu.edu         Xuebin Wei    ISAT112\n",
       "3     new_p@jmu.edu              New P    ISAT100\n",
       "4    lab4_P@jmu.edu             lab4 P    ISAT101"
      ]
     },
     "execution_count": 77,
     "metadata": {},
     "output_type": "execute_result"
    }
   ],
   "source": [
    "df_student=pandas.read_sql_query('select * from gp16.professor',conn)\n",
    "df_student[:]"
   ]
  },
  {
   "cell_type": "code",
   "execution_count": 79,
   "id": "e81d679d",
   "metadata": {},
   "outputs": [
    {
     "name": "stdout",
     "output_type": "stream",
     "text": [
      "\n",
      "                insert into gp16.course(c_number, c_name, c_room, p_email)\n",
      "                values ('course_6', 'lab4_course', 'lab4_room', 'lab4_P@jmu.edu')\n"
     ]
    }
   ],
   "source": [
    "sql_statement= \"\"\"\n",
    "                insert into gp16.course(c_number, c_name, c_room, p_email)\n",
    "                values ('course_6', 'lab4_course', 'lab4_room', 'lab4_P@jmu.edu')\"\"\"\n",
    "print(sql_statement)"
   ]
  },
  {
   "cell_type": "code",
   "execution_count": 80,
   "id": "aeb4e19b",
   "metadata": {},
   "outputs": [],
   "source": [
    "cur.execute(sql_statement)"
   ]
  },
  {
   "cell_type": "code",
   "execution_count": 81,
   "id": "574cc5fd",
   "metadata": {},
   "outputs": [],
   "source": [
    "conn.commit()"
   ]
  },
  {
   "cell_type": "code",
   "execution_count": 82,
   "id": "0edaef53",
   "metadata": {},
   "outputs": [
    {
     "data": {
      "text/html": [
       "<div>\n",
       "<style scoped>\n",
       "    .dataframe tbody tr th:only-of-type {\n",
       "        vertical-align: middle;\n",
       "    }\n",
       "\n",
       "    .dataframe tbody tr th {\n",
       "        vertical-align: top;\n",
       "    }\n",
       "\n",
       "    .dataframe thead th {\n",
       "        text-align: right;\n",
       "    }\n",
       "</style>\n",
       "<table border=\"1\" class=\"dataframe\">\n",
       "  <thead>\n",
       "    <tr style=\"text-align: right;\">\n",
       "      <th></th>\n",
       "      <th>c_number</th>\n",
       "      <th>c_name</th>\n",
       "      <th>c_room</th>\n",
       "      <th>p_email</th>\n",
       "    </tr>\n",
       "  </thead>\n",
       "  <tbody>\n",
       "    <tr>\n",
       "      <th>0</th>\n",
       "      <td>IA300</td>\n",
       "      <td>Seminar on Issues in IA</td>\n",
       "      <td>Isat 150</td>\n",
       "      <td>marrinsp@jmu.edu</td>\n",
       "    </tr>\n",
       "    <tr>\n",
       "      <th>1</th>\n",
       "      <td>IA340</td>\n",
       "      <td>Data Mining</td>\n",
       "      <td>Isat 336</td>\n",
       "      <td>weixx@jmu.edu</td>\n",
       "    </tr>\n",
       "    <tr>\n",
       "      <th>2</th>\n",
       "      <td>IA200</td>\n",
       "      <td>Intro to US National Security</td>\n",
       "      <td>Festival 7</td>\n",
       "      <td>danzelox@jmu.edu</td>\n",
       "    </tr>\n",
       "    <tr>\n",
       "      <th>3</th>\n",
       "      <td>course_5</td>\n",
       "      <td>new_course</td>\n",
       "      <td>new_room</td>\n",
       "      <td>new_p@jmu.edu</td>\n",
       "    </tr>\n",
       "    <tr>\n",
       "      <th>4</th>\n",
       "      <td>IA314</td>\n",
       "      <td>Counterfactual Reasoning</td>\n",
       "      <td>Engeo 1204</td>\n",
       "      <td>new_p@jmu.edu</td>\n",
       "    </tr>\n",
       "    <tr>\n",
       "      <th>5</th>\n",
       "      <td>course_6</td>\n",
       "      <td>lab4_course</td>\n",
       "      <td>lab4_room</td>\n",
       "      <td>lab4_P@jmu.edu</td>\n",
       "    </tr>\n",
       "  </tbody>\n",
       "</table>\n",
       "</div>"
      ],
      "text/plain": [
       "   c_number                          c_name      c_room           p_email\n",
       "0     IA300         Seminar on Issues in IA    Isat 150  marrinsp@jmu.edu\n",
       "1     IA340                     Data Mining    Isat 336     weixx@jmu.edu\n",
       "2     IA200  Intro to US National Security   Festival 7  danzelox@jmu.edu\n",
       "3  course_5                      new_course    new_room     new_p@jmu.edu\n",
       "4     IA314        Counterfactual Reasoning  Engeo 1204     new_p@jmu.edu\n",
       "5  course_6                     lab4_course   lab4_room    lab4_P@jmu.edu"
      ]
     },
     "execution_count": 82,
     "metadata": {},
     "output_type": "execute_result"
    }
   ],
   "source": [
    "df_student=pandas.read_sql_query('select * from gp16.course',conn)\n",
    "df_student[:]"
   ]
  },
  {
   "cell_type": "markdown",
   "id": "a2f58d67",
   "metadata": {},
   "source": [
    "## 3.6"
   ]
  },
  {
   "cell_type": "code",
   "execution_count": 83,
   "id": "0f7101a2",
   "metadata": {},
   "outputs": [
    {
     "name": "stdout",
     "output_type": "stream",
     "text": [
      "\n",
      "                update gp16.course\n",
      "                set p_email = 'lab4_P@jmu.edu'\n",
      "                where p_email = 'danzelox@jmu.edu'\n"
     ]
    }
   ],
   "source": [
    "sql_statement= \"\"\"\n",
    "                update gp16.course\n",
    "                set p_email = 'lab4_P@jmu.edu'\n",
    "                where p_email = 'danzelox@jmu.edu'\"\"\"\n",
    "print(sql_statement)"
   ]
  },
  {
   "cell_type": "code",
   "execution_count": 84,
   "id": "3770269b",
   "metadata": {},
   "outputs": [],
   "source": [
    "cur.execute(sql_statement)"
   ]
  },
  {
   "cell_type": "code",
   "execution_count": 85,
   "id": "66fa2acf",
   "metadata": {},
   "outputs": [],
   "source": [
    "conn.commit()"
   ]
  },
  {
   "cell_type": "code",
   "execution_count": 86,
   "id": "1aed5387",
   "metadata": {},
   "outputs": [
    {
     "data": {
      "text/html": [
       "<div>\n",
       "<style scoped>\n",
       "    .dataframe tbody tr th:only-of-type {\n",
       "        vertical-align: middle;\n",
       "    }\n",
       "\n",
       "    .dataframe tbody tr th {\n",
       "        vertical-align: top;\n",
       "    }\n",
       "\n",
       "    .dataframe thead th {\n",
       "        text-align: right;\n",
       "    }\n",
       "</style>\n",
       "<table border=\"1\" class=\"dataframe\">\n",
       "  <thead>\n",
       "    <tr style=\"text-align: right;\">\n",
       "      <th></th>\n",
       "      <th>c_number</th>\n",
       "      <th>c_name</th>\n",
       "      <th>c_room</th>\n",
       "      <th>p_email</th>\n",
       "    </tr>\n",
       "  </thead>\n",
       "  <tbody>\n",
       "    <tr>\n",
       "      <th>0</th>\n",
       "      <td>IA300</td>\n",
       "      <td>Seminar on Issues in IA</td>\n",
       "      <td>Isat 150</td>\n",
       "      <td>marrinsp@jmu.edu</td>\n",
       "    </tr>\n",
       "    <tr>\n",
       "      <th>1</th>\n",
       "      <td>IA340</td>\n",
       "      <td>Data Mining</td>\n",
       "      <td>Isat 336</td>\n",
       "      <td>weixx@jmu.edu</td>\n",
       "    </tr>\n",
       "    <tr>\n",
       "      <th>2</th>\n",
       "      <td>course_5</td>\n",
       "      <td>new_course</td>\n",
       "      <td>new_room</td>\n",
       "      <td>new_p@jmu.edu</td>\n",
       "    </tr>\n",
       "    <tr>\n",
       "      <th>3</th>\n",
       "      <td>IA314</td>\n",
       "      <td>Counterfactual Reasoning</td>\n",
       "      <td>Engeo 1204</td>\n",
       "      <td>new_p@jmu.edu</td>\n",
       "    </tr>\n",
       "    <tr>\n",
       "      <th>4</th>\n",
       "      <td>course_6</td>\n",
       "      <td>lab4_course</td>\n",
       "      <td>lab4_room</td>\n",
       "      <td>lab4_P@jmu.edu</td>\n",
       "    </tr>\n",
       "    <tr>\n",
       "      <th>5</th>\n",
       "      <td>IA200</td>\n",
       "      <td>Intro to US National Security</td>\n",
       "      <td>Festival 7</td>\n",
       "      <td>lab4_P@jmu.edu</td>\n",
       "    </tr>\n",
       "  </tbody>\n",
       "</table>\n",
       "</div>"
      ],
      "text/plain": [
       "   c_number                          c_name      c_room           p_email\n",
       "0     IA300         Seminar on Issues in IA    Isat 150  marrinsp@jmu.edu\n",
       "1     IA340                     Data Mining    Isat 336     weixx@jmu.edu\n",
       "2  course_5                      new_course    new_room     new_p@jmu.edu\n",
       "3     IA314        Counterfactual Reasoning  Engeo 1204     new_p@jmu.edu\n",
       "4  course_6                     lab4_course   lab4_room    lab4_P@jmu.edu\n",
       "5     IA200  Intro to US National Security   Festival 7    lab4_P@jmu.edu"
      ]
     },
     "execution_count": 86,
     "metadata": {},
     "output_type": "execute_result"
    }
   ],
   "source": [
    "df_student=pandas.read_sql_query('select * from gp16.course',conn)\n",
    "df_student[:]"
   ]
  },
  {
   "cell_type": "code",
   "execution_count": 87,
   "id": "46615b4f",
   "metadata": {},
   "outputs": [
    {
     "name": "stdout",
     "output_type": "stream",
     "text": [
      "\n",
      "                delete from gp16.professor\n",
      "                where p_email = 'danzelox@jmu.edu'\n"
     ]
    }
   ],
   "source": [
    "sql_statement= \"\"\"\n",
    "                delete from gp16.professor\n",
    "                where p_email = 'danzelox@jmu.edu'\"\"\"\n",
    "print(sql_statement)"
   ]
  },
  {
   "cell_type": "code",
   "execution_count": 88,
   "id": "53f9c482",
   "metadata": {},
   "outputs": [],
   "source": [
    "cur.execute(sql_statement)"
   ]
  },
  {
   "cell_type": "code",
   "execution_count": 89,
   "id": "982eac78",
   "metadata": {},
   "outputs": [],
   "source": [
    "conn.commit()"
   ]
  },
  {
   "cell_type": "code",
   "execution_count": 90,
   "id": "d6b8875c",
   "metadata": {},
   "outputs": [
    {
     "data": {
      "text/html": [
       "<div>\n",
       "<style scoped>\n",
       "    .dataframe tbody tr th:only-of-type {\n",
       "        vertical-align: middle;\n",
       "    }\n",
       "\n",
       "    .dataframe tbody tr th {\n",
       "        vertical-align: top;\n",
       "    }\n",
       "\n",
       "    .dataframe thead th {\n",
       "        text-align: right;\n",
       "    }\n",
       "</style>\n",
       "<table border=\"1\" class=\"dataframe\">\n",
       "  <thead>\n",
       "    <tr style=\"text-align: right;\">\n",
       "      <th></th>\n",
       "      <th>p_email</th>\n",
       "      <th>p_name</th>\n",
       "      <th>p_office</th>\n",
       "    </tr>\n",
       "  </thead>\n",
       "  <tbody>\n",
       "    <tr>\n",
       "      <th>0</th>\n",
       "      <td>marrinsp@jmu.edu</td>\n",
       "      <td>Stephen Marrin</td>\n",
       "      <td>ENGEO2401</td>\n",
       "    </tr>\n",
       "    <tr>\n",
       "      <th>1</th>\n",
       "      <td>weixx@jmu.edu</td>\n",
       "      <td>Xuebin Wei</td>\n",
       "      <td>ISAT112</td>\n",
       "    </tr>\n",
       "    <tr>\n",
       "      <th>2</th>\n",
       "      <td>new_p@jmu.edu</td>\n",
       "      <td>New P</td>\n",
       "      <td>ISAT100</td>\n",
       "    </tr>\n",
       "    <tr>\n",
       "      <th>3</th>\n",
       "      <td>lab4_P@jmu.edu</td>\n",
       "      <td>lab4 P</td>\n",
       "      <td>ISAT101</td>\n",
       "    </tr>\n",
       "  </tbody>\n",
       "</table>\n",
       "</div>"
      ],
      "text/plain": [
       "            p_email          p_name   p_office\n",
       "0  marrinsp@jmu.edu  Stephen Marrin  ENGEO2401\n",
       "1     weixx@jmu.edu      Xuebin Wei    ISAT112\n",
       "2     new_p@jmu.edu           New P    ISAT100\n",
       "3    lab4_P@jmu.edu          lab4 P    ISAT101"
      ]
     },
     "execution_count": 90,
     "metadata": {},
     "output_type": "execute_result"
    }
   ],
   "source": [
    "df_student=pandas.read_sql_query('select * from gp16.professor',conn)\n",
    "df_student[:]"
   ]
  },
  {
   "cell_type": "code",
   "execution_count": 91,
   "id": "48ada88a",
   "metadata": {},
   "outputs": [],
   "source": [
    "cur.close()"
   ]
  },
  {
   "cell_type": "code",
   "execution_count": 92,
   "id": "b133b58d",
   "metadata": {},
   "outputs": [],
   "source": [
    "conn.close()"
   ]
  },
  {
   "cell_type": "code",
   "execution_count": null,
   "id": "942896b2",
   "metadata": {},
   "outputs": [],
   "source": []
  }
 ],
 "metadata": {
  "kernelspec": {
   "display_name": "conda_python3",
   "language": "python",
   "name": "conda_python3"
  },
  "language_info": {
   "codemirror_mode": {
    "name": "ipython",
    "version": 3
   },
   "file_extension": ".py",
   "mimetype": "text/x-python",
   "name": "python",
   "nbconvert_exporter": "python",
   "pygments_lexer": "ipython3",
   "version": "3.6.13"
  }
 },
 "nbformat": 4,
 "nbformat_minor": 5
}
